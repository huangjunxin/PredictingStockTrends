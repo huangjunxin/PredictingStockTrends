{
 "metadata": {
  "kernelspec": {
   "language": "python",
   "display_name": "Python 3",
   "name": "python3"
  },
  "language_info": {
   "name": "python",
   "version": "3.7.10",
   "mimetype": "text/x-python",
   "codemirror_mode": {
    "name": "ipython",
    "version": 3
   },
   "pygments_lexer": "ipython3",
   "nbconvert_exporter": "python",
   "file_extension": ".py"
  },
  "colab": {
   "provenance": []
  }
 },
 "nbformat_minor": 0,
 "nbformat": 4,
 "cells": [
  {
   "cell_type": "markdown",
   "source": [
    "## Import Libraries"
   ],
   "metadata": {
    "id": "tMuIoA3cmk_H"
   }
  },
  {
   "cell_type": "code",
   "source": [
    "import numpy as np # linear algebra\n",
    "import pandas as pd # data processing, CSV file I/O (e.g. pd.read_csv)\n",
    "import seaborn as sns\n",
    "import matplotlib.pyplot as plt\n",
    "\n",
    "# Input data files are available in the read-only \"../input/\" directory\n",
    "# For example, running this (by clicking run or pressing Shift+Enter) will list all files under the input directory\n",
    "import math\n",
    "from sklearn.metrics import mean_squared_error\n",
    "import torch\n",
    "# Ignore warnings\n",
    "import warnings\n",
    "warnings.filterwarnings('ignore')\n",
    "import os\n",
    "\n"
   ],
   "metadata": {
    "_uuid": "8f2839f25d086af736a60e9eeb907d3b93b6e0e5",
    "_cell_guid": "b1076dfc-b9ad-4769-8c92-a6c4dae69d19",
    "_kg_hide-output": true,
    "collapsed": true,
    "jupyter": {
     "outputs_hidden": true
    },
    "trusted": true,
    "id": "9jwHwVLsmk_I"
   },
   "execution_count": 22,
   "outputs": []
  },
  {
   "cell_type": "markdown",
   "source": [
    "## Load and Check Data"
   ],
   "metadata": {
    "id": "hqKEZjDBmk_N"
   }
  },
  {
   "cell_type": "code",
   "source": [
    "data = pd.read_csv(\"./data/tsla.us.txt\")"
   ],
   "metadata": {
    "trusted": true,
    "id": "uybnEZ2_mk_O"
   },
   "execution_count": 2,
   "outputs": []
  },
  {
   "cell_type": "code",
   "source": [
    "#Let's examine a few examples from our data.\n",
    "data.head()"
   ],
   "metadata": {
    "trusted": true,
    "id": "CTu_o5VImk_O",
    "outputId": "f00e60fa-8784-4806-aac7-aaf7890b6a32",
    "colab": {
     "base_uri": "https://localhost:8080/",
     "height": 206
    }
   },
   "execution_count": 3,
   "outputs": [
    {
     "output_type": "execute_result",
     "data": {
      "text/plain": [
       "         Date   Open   High    Low  Close    Volume  OpenInt\n",
       "0  2010-06-28  17.00  17.00  17.00  17.00         0        0\n",
       "1  2010-06-29  19.00  25.00  17.54  23.89  18783276        0\n",
       "2  2010-06-30  25.79  30.42  23.30  23.83  17194394        0\n",
       "3  2010-07-01  25.00  25.92  20.27  21.96   8229863        0\n",
       "4  2010-07-02  23.00  23.10  18.71  19.20   5141807        0"
      ],
      "text/html": [
       "\n",
       "  <div id=\"df-396b3fcc-decd-417d-99de-be27a9cfc884\">\n",
       "    <div class=\"colab-df-container\">\n",
       "      <div>\n",
       "<style scoped>\n",
       "    .dataframe tbody tr th:only-of-type {\n",
       "        vertical-align: middle;\n",
       "    }\n",
       "\n",
       "    .dataframe tbody tr th {\n",
       "        vertical-align: top;\n",
       "    }\n",
       "\n",
       "    .dataframe thead th {\n",
       "        text-align: right;\n",
       "    }\n",
       "</style>\n",
       "<table border=\"1\" class=\"dataframe\">\n",
       "  <thead>\n",
       "    <tr style=\"text-align: right;\">\n",
       "      <th></th>\n",
       "      <th>Date</th>\n",
       "      <th>Open</th>\n",
       "      <th>High</th>\n",
       "      <th>Low</th>\n",
       "      <th>Close</th>\n",
       "      <th>Volume</th>\n",
       "      <th>OpenInt</th>\n",
       "    </tr>\n",
       "  </thead>\n",
       "  <tbody>\n",
       "    <tr>\n",
       "      <th>0</th>\n",
       "      <td>2010-06-28</td>\n",
       "      <td>17.00</td>\n",
       "      <td>17.00</td>\n",
       "      <td>17.00</td>\n",
       "      <td>17.00</td>\n",
       "      <td>0</td>\n",
       "      <td>0</td>\n",
       "    </tr>\n",
       "    <tr>\n",
       "      <th>1</th>\n",
       "      <td>2010-06-29</td>\n",
       "      <td>19.00</td>\n",
       "      <td>25.00</td>\n",
       "      <td>17.54</td>\n",
       "      <td>23.89</td>\n",
       "      <td>18783276</td>\n",
       "      <td>0</td>\n",
       "    </tr>\n",
       "    <tr>\n",
       "      <th>2</th>\n",
       "      <td>2010-06-30</td>\n",
       "      <td>25.79</td>\n",
       "      <td>30.42</td>\n",
       "      <td>23.30</td>\n",
       "      <td>23.83</td>\n",
       "      <td>17194394</td>\n",
       "      <td>0</td>\n",
       "    </tr>\n",
       "    <tr>\n",
       "      <th>3</th>\n",
       "      <td>2010-07-01</td>\n",
       "      <td>25.00</td>\n",
       "      <td>25.92</td>\n",
       "      <td>20.27</td>\n",
       "      <td>21.96</td>\n",
       "      <td>8229863</td>\n",
       "      <td>0</td>\n",
       "    </tr>\n",
       "    <tr>\n",
       "      <th>4</th>\n",
       "      <td>2010-07-02</td>\n",
       "      <td>23.00</td>\n",
       "      <td>23.10</td>\n",
       "      <td>18.71</td>\n",
       "      <td>19.20</td>\n",
       "      <td>5141807</td>\n",
       "      <td>0</td>\n",
       "    </tr>\n",
       "  </tbody>\n",
       "</table>\n",
       "</div>\n",
       "      <button class=\"colab-df-convert\" onclick=\"convertToInteractive('df-396b3fcc-decd-417d-99de-be27a9cfc884')\"\n",
       "              title=\"Convert this dataframe to an interactive table.\"\n",
       "              style=\"display:none;\">\n",
       "        \n",
       "  <svg xmlns=\"http://www.w3.org/2000/svg\" height=\"24px\"viewBox=\"0 0 24 24\"\n",
       "       width=\"24px\">\n",
       "    <path d=\"M0 0h24v24H0V0z\" fill=\"none\"/>\n",
       "    <path d=\"M18.56 5.44l.94 2.06.94-2.06 2.06-.94-2.06-.94-.94-2.06-.94 2.06-2.06.94zm-11 1L8.5 8.5l.94-2.06 2.06-.94-2.06-.94L8.5 2.5l-.94 2.06-2.06.94zm10 10l.94 2.06.94-2.06 2.06-.94-2.06-.94-.94-2.06-.94 2.06-2.06.94z\"/><path d=\"M17.41 7.96l-1.37-1.37c-.4-.4-.92-.59-1.43-.59-.52 0-1.04.2-1.43.59L10.3 9.45l-7.72 7.72c-.78.78-.78 2.05 0 2.83L4 21.41c.39.39.9.59 1.41.59.51 0 1.02-.2 1.41-.59l7.78-7.78 2.81-2.81c.8-.78.8-2.07 0-2.86zM5.41 20L4 18.59l7.72-7.72 1.47 1.35L5.41 20z\"/>\n",
       "  </svg>\n",
       "      </button>\n",
       "      \n",
       "  <style>\n",
       "    .colab-df-container {\n",
       "      display:flex;\n",
       "      flex-wrap:wrap;\n",
       "      gap: 12px;\n",
       "    }\n",
       "\n",
       "    .colab-df-convert {\n",
       "      background-color: #E8F0FE;\n",
       "      border: none;\n",
       "      border-radius: 50%;\n",
       "      cursor: pointer;\n",
       "      display: none;\n",
       "      fill: #1967D2;\n",
       "      height: 32px;\n",
       "      padding: 0 0 0 0;\n",
       "      width: 32px;\n",
       "    }\n",
       "\n",
       "    .colab-df-convert:hover {\n",
       "      background-color: #E2EBFA;\n",
       "      box-shadow: 0px 1px 2px rgba(60, 64, 67, 0.3), 0px 1px 3px 1px rgba(60, 64, 67, 0.15);\n",
       "      fill: #174EA6;\n",
       "    }\n",
       "\n",
       "    [theme=dark] .colab-df-convert {\n",
       "      background-color: #3B4455;\n",
       "      fill: #D2E3FC;\n",
       "    }\n",
       "\n",
       "    [theme=dark] .colab-df-convert:hover {\n",
       "      background-color: #434B5C;\n",
       "      box-shadow: 0px 1px 3px 1px rgba(0, 0, 0, 0.15);\n",
       "      filter: drop-shadow(0px 1px 2px rgba(0, 0, 0, 0.3));\n",
       "      fill: #FFFFFF;\n",
       "    }\n",
       "  </style>\n",
       "\n",
       "      <script>\n",
       "        const buttonEl =\n",
       "          document.querySelector('#df-396b3fcc-decd-417d-99de-be27a9cfc884 button.colab-df-convert');\n",
       "        buttonEl.style.display =\n",
       "          google.colab.kernel.accessAllowed ? 'block' : 'none';\n",
       "\n",
       "        async function convertToInteractive(key) {\n",
       "          const element = document.querySelector('#df-396b3fcc-decd-417d-99de-be27a9cfc884');\n",
       "          const dataTable =\n",
       "            await google.colab.kernel.invokeFunction('convertToInteractive',\n",
       "                                                     [key], {});\n",
       "          if (!dataTable) return;\n",
       "\n",
       "          const docLinkHtml = 'Like what you see? Visit the ' +\n",
       "            '<a target=\"_blank\" href=https://colab.research.google.com/notebooks/data_table.ipynb>data table notebook</a>'\n",
       "            + ' to learn more about interactive tables.';\n",
       "          element.innerHTML = '';\n",
       "          dataTable['output_type'] = 'display_data';\n",
       "          await google.colab.output.renderOutput(dataTable, element);\n",
       "          const docLink = document.createElement('div');\n",
       "          docLink.innerHTML = docLinkHtml;\n",
       "          element.appendChild(docLink);\n",
       "        }\n",
       "      </script>\n",
       "    </div>\n",
       "  </div>\n",
       "  "
      ]
     },
     "metadata": {},
     "execution_count": 3
    }
   ]
  },
  {
   "cell_type": "code",
   "source": [
    "print(\"Data Shape -->\", data.shape)"
   ],
   "metadata": {
    "trusted": true,
    "colab": {
     "base_uri": "https://localhost:8080/"
    },
    "id": "D7nBbrIEmk_P",
    "outputId": "c72b8706-acdd-4cfd-919d-0c3aada4de8a"
   },
   "execution_count": 4,
   "outputs": [
    {
     "output_type": "stream",
     "name": "stdout",
     "text": [
      "Data Shape --> (1858, 7)\n"
     ]
    }
   ]
  },
  {
   "cell_type": "code",
   "source": [
    "data.describe()"
   ],
   "metadata": {
    "trusted": true,
    "colab": {
     "base_uri": "https://localhost:8080/",
     "height": 300
    },
    "id": "gCUeFjhtmk_Q",
    "outputId": "84b4ccc1-5564-49cb-b780-7d32f547bc77"
   },
   "execution_count": 5,
   "outputs": [
    {
     "output_type": "execute_result",
     "data": {
      "text/plain": [
       "              Open         High          Low        Close        Volume  \\\n",
       "count  1858.000000  1858.000000  1858.000000  1858.000000  1.858000e+03   \n",
       "mean    150.389741   152.898737   147.688064   150.355047  4.416508e+06   \n",
       "std     107.071675   108.490099   105.481665   107.023737  4.244294e+06   \n",
       "min      16.140000    16.630000     8.030000    15.800000  0.000000e+00   \n",
       "25%      31.002500    31.732500    30.285000    31.112500  1.283324e+06   \n",
       "50%     184.440000   188.660000   181.450000   184.850000  3.421026e+06   \n",
       "75%     231.477500   235.375000   227.772500   230.920000  5.917672e+06   \n",
       "max     386.690000   389.610000   379.345000   385.000000  3.714989e+07   \n",
       "\n",
       "       OpenInt  \n",
       "count   1858.0  \n",
       "mean       0.0  \n",
       "std        0.0  \n",
       "min        0.0  \n",
       "25%        0.0  \n",
       "50%        0.0  \n",
       "75%        0.0  \n",
       "max        0.0  "
      ],
      "text/html": [
       "\n",
       "  <div id=\"df-075fb559-c589-49da-8c34-aeb3eb4a6771\">\n",
       "    <div class=\"colab-df-container\">\n",
       "      <div>\n",
       "<style scoped>\n",
       "    .dataframe tbody tr th:only-of-type {\n",
       "        vertical-align: middle;\n",
       "    }\n",
       "\n",
       "    .dataframe tbody tr th {\n",
       "        vertical-align: top;\n",
       "    }\n",
       "\n",
       "    .dataframe thead th {\n",
       "        text-align: right;\n",
       "    }\n",
       "</style>\n",
       "<table border=\"1\" class=\"dataframe\">\n",
       "  <thead>\n",
       "    <tr style=\"text-align: right;\">\n",
       "      <th></th>\n",
       "      <th>Open</th>\n",
       "      <th>High</th>\n",
       "      <th>Low</th>\n",
       "      <th>Close</th>\n",
       "      <th>Volume</th>\n",
       "      <th>OpenInt</th>\n",
       "    </tr>\n",
       "  </thead>\n",
       "  <tbody>\n",
       "    <tr>\n",
       "      <th>count</th>\n",
       "      <td>1858.000000</td>\n",
       "      <td>1858.000000</td>\n",
       "      <td>1858.000000</td>\n",
       "      <td>1858.000000</td>\n",
       "      <td>1.858000e+03</td>\n",
       "      <td>1858.0</td>\n",
       "    </tr>\n",
       "    <tr>\n",
       "      <th>mean</th>\n",
       "      <td>150.389741</td>\n",
       "      <td>152.898737</td>\n",
       "      <td>147.688064</td>\n",
       "      <td>150.355047</td>\n",
       "      <td>4.416508e+06</td>\n",
       "      <td>0.0</td>\n",
       "    </tr>\n",
       "    <tr>\n",
       "      <th>std</th>\n",
       "      <td>107.071675</td>\n",
       "      <td>108.490099</td>\n",
       "      <td>105.481665</td>\n",
       "      <td>107.023737</td>\n",
       "      <td>4.244294e+06</td>\n",
       "      <td>0.0</td>\n",
       "    </tr>\n",
       "    <tr>\n",
       "      <th>min</th>\n",
       "      <td>16.140000</td>\n",
       "      <td>16.630000</td>\n",
       "      <td>8.030000</td>\n",
       "      <td>15.800000</td>\n",
       "      <td>0.000000e+00</td>\n",
       "      <td>0.0</td>\n",
       "    </tr>\n",
       "    <tr>\n",
       "      <th>25%</th>\n",
       "      <td>31.002500</td>\n",
       "      <td>31.732500</td>\n",
       "      <td>30.285000</td>\n",
       "      <td>31.112500</td>\n",
       "      <td>1.283324e+06</td>\n",
       "      <td>0.0</td>\n",
       "    </tr>\n",
       "    <tr>\n",
       "      <th>50%</th>\n",
       "      <td>184.440000</td>\n",
       "      <td>188.660000</td>\n",
       "      <td>181.450000</td>\n",
       "      <td>184.850000</td>\n",
       "      <td>3.421026e+06</td>\n",
       "      <td>0.0</td>\n",
       "    </tr>\n",
       "    <tr>\n",
       "      <th>75%</th>\n",
       "      <td>231.477500</td>\n",
       "      <td>235.375000</td>\n",
       "      <td>227.772500</td>\n",
       "      <td>230.920000</td>\n",
       "      <td>5.917672e+06</td>\n",
       "      <td>0.0</td>\n",
       "    </tr>\n",
       "    <tr>\n",
       "      <th>max</th>\n",
       "      <td>386.690000</td>\n",
       "      <td>389.610000</td>\n",
       "      <td>379.345000</td>\n",
       "      <td>385.000000</td>\n",
       "      <td>3.714989e+07</td>\n",
       "      <td>0.0</td>\n",
       "    </tr>\n",
       "  </tbody>\n",
       "</table>\n",
       "</div>\n",
       "      <button class=\"colab-df-convert\" onclick=\"convertToInteractive('df-075fb559-c589-49da-8c34-aeb3eb4a6771')\"\n",
       "              title=\"Convert this dataframe to an interactive table.\"\n",
       "              style=\"display:none;\">\n",
       "        \n",
       "  <svg xmlns=\"http://www.w3.org/2000/svg\" height=\"24px\"viewBox=\"0 0 24 24\"\n",
       "       width=\"24px\">\n",
       "    <path d=\"M0 0h24v24H0V0z\" fill=\"none\"/>\n",
       "    <path d=\"M18.56 5.44l.94 2.06.94-2.06 2.06-.94-2.06-.94-.94-2.06-.94 2.06-2.06.94zm-11 1L8.5 8.5l.94-2.06 2.06-.94-2.06-.94L8.5 2.5l-.94 2.06-2.06.94zm10 10l.94 2.06.94-2.06 2.06-.94-2.06-.94-.94-2.06-.94 2.06-2.06.94z\"/><path d=\"M17.41 7.96l-1.37-1.37c-.4-.4-.92-.59-1.43-.59-.52 0-1.04.2-1.43.59L10.3 9.45l-7.72 7.72c-.78.78-.78 2.05 0 2.83L4 21.41c.39.39.9.59 1.41.59.51 0 1.02-.2 1.41-.59l7.78-7.78 2.81-2.81c.8-.78.8-2.07 0-2.86zM5.41 20L4 18.59l7.72-7.72 1.47 1.35L5.41 20z\"/>\n",
       "  </svg>\n",
       "      </button>\n",
       "      \n",
       "  <style>\n",
       "    .colab-df-container {\n",
       "      display:flex;\n",
       "      flex-wrap:wrap;\n",
       "      gap: 12px;\n",
       "    }\n",
       "\n",
       "    .colab-df-convert {\n",
       "      background-color: #E8F0FE;\n",
       "      border: none;\n",
       "      border-radius: 50%;\n",
       "      cursor: pointer;\n",
       "      display: none;\n",
       "      fill: #1967D2;\n",
       "      height: 32px;\n",
       "      padding: 0 0 0 0;\n",
       "      width: 32px;\n",
       "    }\n",
       "\n",
       "    .colab-df-convert:hover {\n",
       "      background-color: #E2EBFA;\n",
       "      box-shadow: 0px 1px 2px rgba(60, 64, 67, 0.3), 0px 1px 3px 1px rgba(60, 64, 67, 0.15);\n",
       "      fill: #174EA6;\n",
       "    }\n",
       "\n",
       "    [theme=dark] .colab-df-convert {\n",
       "      background-color: #3B4455;\n",
       "      fill: #D2E3FC;\n",
       "    }\n",
       "\n",
       "    [theme=dark] .colab-df-convert:hover {\n",
       "      background-color: #434B5C;\n",
       "      box-shadow: 0px 1px 3px 1px rgba(0, 0, 0, 0.15);\n",
       "      filter: drop-shadow(0px 1px 2px rgba(0, 0, 0, 0.3));\n",
       "      fill: #FFFFFF;\n",
       "    }\n",
       "  </style>\n",
       "\n",
       "      <script>\n",
       "        const buttonEl =\n",
       "          document.querySelector('#df-075fb559-c589-49da-8c34-aeb3eb4a6771 button.colab-df-convert');\n",
       "        buttonEl.style.display =\n",
       "          google.colab.kernel.accessAllowed ? 'block' : 'none';\n",
       "\n",
       "        async function convertToInteractive(key) {\n",
       "          const element = document.querySelector('#df-075fb559-c589-49da-8c34-aeb3eb4a6771');\n",
       "          const dataTable =\n",
       "            await google.colab.kernel.invokeFunction('convertToInteractive',\n",
       "                                                     [key], {});\n",
       "          if (!dataTable) return;\n",
       "\n",
       "          const docLinkHtml = 'Like what you see? Visit the ' +\n",
       "            '<a target=\"_blank\" href=https://colab.research.google.com/notebooks/data_table.ipynb>data table notebook</a>'\n",
       "            + ' to learn more about interactive tables.';\n",
       "          element.innerHTML = '';\n",
       "          dataTable['output_type'] = 'display_data';\n",
       "          await google.colab.output.renderOutput(dataTable, element);\n",
       "          const docLink = document.createElement('div');\n",
       "          docLink.innerHTML = docLinkHtml;\n",
       "          element.appendChild(docLink);\n",
       "        }\n",
       "      </script>\n",
       "    </div>\n",
       "  </div>\n",
       "  "
      ]
     },
     "metadata": {},
     "execution_count": 5
    }
   ]
  },
  {
   "cell_type": "code",
   "source": [
    "print(\"Do you have a null column? \\n\", data.isna().sum())"
   ],
   "metadata": {
    "trusted": true,
    "colab": {
     "base_uri": "https://localhost:8080/"
    },
    "id": "kFrAVJrTmk_Q",
    "outputId": "d33ba75c-5c1c-4320-de23-7436b2451699"
   },
   "execution_count": 6,
   "outputs": [
    {
     "output_type": "stream",
     "name": "stdout",
     "text": [
      "Do you have a null column? \n",
      " Date       0\n",
      "Open       0\n",
      "High       0\n",
      "Low        0\n",
      "Close      0\n",
      "Volume     0\n",
      "OpenInt    0\n",
      "dtype: int64\n"
     ]
    }
   ]
  },
  {
   "cell_type": "markdown",
   "source": [
    "## Recurrent Neural Networks (RNN)\n"
   ],
   "metadata": {
    "id": "M5Jo8Y2Hmk_R"
   }
  },
  {
   "cell_type": "markdown",
   "source": [
    "### Why Recurrent Neural Networks\n",
    "\n",
    "\n",
    "\n",
    "- Cannot handle sequential data\n",
    "- Takes into account the current entry.\n",
    "- It does not consider previous entries, so it does not remember\n",
    "\n",
    "The solution to these problems is RNN. RNN can process sequential data, accept existing input data and previously received inputs.RNNs can remember previous entries as they have internal memories."
   ],
   "metadata": {
    "id": "xRVlaMhcmk_S"
   }
  },
  {
   "cell_type": "markdown",
   "source": [
    "## Data Preprocessing\n",
    "\n",
    "In this section, we will make the data available for RNN.\n",
    "\n",
    "- Split the data as train and test\n",
    "- Normalize data.\n",
    "- X_train - y_train\n",
    "- Reshape"
   ],
   "metadata": {
    "id": "EKk1V7e6mk_V"
   }
  },
  {
   "cell_type": "markdown",
   "source": [
    "### Split the data as train and test\n",
    "\n",
    "In this section, we will seperate the data set into two parts - training and testing."
   ],
   "metadata": {
    "id": "6so10gaxmk_W"
   }
  },
  {
   "cell_type": "code",
   "source": [
    "training_size = int(len(data)*0.80)\n",
    "data_len = len(data)\n",
    "\n",
    "train, test = data[0:training_size],data[training_size:data_len]"
   ],
   "metadata": {
    "trusted": true,
    "id": "MIPuWrGXmk_W"
   },
   "execution_count": 7,
   "outputs": []
  },
  {
   "cell_type": "code",
   "source": [
    "print(\"Training Size --> \", training_size)\n",
    "print(\"total length of data --> \", data_len)\n",
    "print(\"Train length --> \", len(train))\n",
    "print(\"Test length --> \", len(test))"
   ],
   "metadata": {
    "trusted": true,
    "colab": {
     "base_uri": "https://localhost:8080/"
    },
    "id": "7nsaxF2Qmk_X",
    "outputId": "e09d0388-3782-4ce7-acc0-a62084ef9f93"
   },
   "execution_count": 8,
   "outputs": [
    {
     "output_type": "stream",
     "name": "stdout",
     "text": [
      "Training Size -->  1486\n",
      "total length of data -->  1858\n",
      "Train length -->  1486\n",
      "Test length -->  372\n"
     ]
    }
   ]
  },
  {
   "cell_type": "markdown",
   "source": [
    "### Normalize data\n",
    "\n",
    "In this section, we will normalize the data."
   ],
   "metadata": {
    "id": "AAmb19-Gmk_Y"
   }
  },
  {
   "cell_type": "code",
   "source": [
    "# the part of data that we will use as training.\n",
    "train = train.loc[:, [\"Open\"]].values\n",
    "\n",
    "from sklearn.preprocessing import MinMaxScaler\n",
    "scaler = MinMaxScaler(feature_range=(0, 1))\n",
    "train_scaled = scaler.fit_transform(train)"
   ],
   "metadata": {
    "trusted": true,
    "id": "osI6he5amk_Y"
   },
   "execution_count": 9,
   "outputs": []
  },
  {
   "cell_type": "markdown",
   "source": [
    "### X_train - y_train\n",
    "\n",
    "- We will separate the normalized data into x_train and y_train.\n",
    "- We will make this distinction 40 steps 40 steps. So we will train in 40 steps. We will anticipate step 41. didn't we understand Let's examine the picture below and visualize this in our minds.\n"
   ],
   "metadata": {
    "id": "IOSzztyfmk_Z"
   }
  },
  {
   "cell_type": "code",
   "source": [
    "end_len = len(train_scaled)\n",
    "X_train = []\n",
    "y_train = []\n",
    "timesteps = 40\n",
    "\n",
    "for i in range(timesteps, end_len):\n",
    "    X_train.append(train_scaled[i - timesteps:i, 0])\n",
    "    y_train.append(train_scaled[i, 0])\n",
    "X_train, y_train = np.array(X_train), np.array(y_train)\n",
    "X_train.shape"
   ],
   "metadata": {
    "trusted": true,
    "id": "85f8VqW_mk_Z",
    "colab": {
     "base_uri": "https://localhost:8080/"
    },
    "outputId": "389b5b77-53d3-41f6-be2b-dd43565fb902"
   },
   "execution_count": 10,
   "outputs": [
    {
     "output_type": "execute_result",
     "data": {
      "text/plain": [
       "(1446, 40)"
      ]
     },
     "metadata": {},
     "execution_count": 10
    }
   ]
  },
  {
   "cell_type": "markdown",
   "source": [
    "### Reshape\n",
    "\n",
    "Why do we reshape?\n",
    "\n",
    "- One of the most basic points to be considered in RNNs is that they want their input to have 3 dimensions.\n",
    "- These 3 sizes are typically:\n",
    "- the size of data we have\n",
    "- Number of steps\n",
    "- Number of features"
   ],
   "metadata": {
    "id": "JBzkPaJFmk_a"
   }
  },
  {
   "cell_type": "code",
   "source": [
    "X_train = np.reshape(X_train, (X_train.shape[0], X_train.shape[1], 1))\n",
    "\n",
    "print(\"X_train --> \", X_train.shape)\n",
    "print(\"y_train shape --> \", y_train.shape)"
   ],
   "metadata": {
    "trusted": true,
    "colab": {
     "base_uri": "https://localhost:8080/"
    },
    "id": "9DDE2TJsmk_a",
    "outputId": "cbf197ec-7d7b-42c5-de13-d213c3ef6e36"
   },
   "execution_count": 11,
   "outputs": [
    {
     "output_type": "stream",
     "name": "stdout",
     "text": [
      "X_train -->  (1446, 40, 1)\n",
      "y_train shape -->  (1446,)\n"
     ]
    }
   ]
  },
  {
   "cell_type": "markdown",
   "source": [
    "## Implementing with Keras\n",
    "\n",
    "In this section, we create and fit RNN model.\n",
    "\n",
    "- Create Model\n",
    "- Compile Model\n",
    "- Epochs and Batch Size\n",
    "- Fit the model"
   ],
   "metadata": {
    "id": "S2-C-fEWmk_b"
   }
  },
  {
   "cell_type": "markdown",
   "source": [
    "### Create Model\n",
    "\n",
    "- We are importing the libraries we will use for our model.\n",
    "- Later, we will create our RNN model."
   ],
   "metadata": {
    "id": "-ayEHLfumk_b"
   }
  },
  {
   "cell_type": "code",
   "source": [
    "from keras.models import Sequential\n",
    "from keras.layers import Dense\n",
    "from keras.layers import SimpleRNN\n",
    "from keras.layers import Dropout"
   ],
   "metadata": {
    "trusted": true,
    "id": "IpT4VxtMmk_c"
   },
   "execution_count": 12,
   "outputs": []
  },
  {
   "cell_type": "code",
   "source": [
    "regressor = Sequential()\n",
    "\n",
    "regressor.add(SimpleRNN(units = 50, activation = \"tanh\", return_sequences = True, input_shape = (X_train.shape[1],1)))\n",
    "regressor.add(Dropout(0.2))\n",
    "\n",
    "regressor.add(SimpleRNN(units = 50, activation = \"tanh\", return_sequences = True))\n",
    "regressor.add(Dropout(0.2))\n",
    "\n",
    "regressor.add(SimpleRNN(units = 50, activation = \"tanh\", return_sequences = True))\n",
    "regressor.add(Dropout(0.2))\n",
    "\n",
    "regressor.add(SimpleRNN(units = 50))\n",
    "regressor.add(Dropout(0.2))\n",
    "\n",
    "regressor.add(Dense(units = 1))"
   ],
   "metadata": {
    "trusted": true,
    "id": "WKFzQmdNmk_d"
   },
   "execution_count": 13,
   "outputs": []
  },
  {
   "cell_type": "code",
   "source": [
    "regressor.compile(optimizer= \"adam\", loss = \"mean_squared_error\")"
   ],
   "metadata": {
    "trusted": true,
    "id": "SrNkCboZmk_e"
   },
   "execution_count": 14,
   "outputs": []
  },
  {
   "cell_type": "code",
   "source": [
    "epochs = 100 \n",
    "batch_size = 20"
   ],
   "metadata": {
    "trusted": true,
    "id": "MZBOS0EZmk_e"
   },
   "execution_count": 15,
   "outputs": []
  },
  {
   "cell_type": "markdown",
   "source": [
    "### Fit the model"
   ],
   "metadata": {
    "id": "s6FTerLumk_f"
   }
  },
  {
   "cell_type": "code",
   "source": [
    "regressor.fit(X_train, y_train, epochs = epochs, batch_size = batch_size)"
   ],
   "metadata": {
    "trusted": true,
    "colab": {
     "base_uri": "https://localhost:8080/"
    },
    "id": "Zt6bDB2Tmk_f",
    "outputId": "705a3c7a-8d64-4341-c904-f464c1b88ec4"
   },
   "execution_count": 16,
   "outputs": [
    {
     "output_type": "stream",
     "name": "stdout",
     "text": [
      "Epoch 1/100\n",
      "73/73 [==============================] - 17s 87ms/step - loss: 0.2566\n",
      "Epoch 2/100\n",
      "73/73 [==============================] - 6s 77ms/step - loss: 0.1508\n",
      "Epoch 3/100\n",
      "73/73 [==============================] - 3s 45ms/step - loss: 0.0751\n",
      "Epoch 4/100\n",
      "73/73 [==============================] - 3s 40ms/step - loss: 0.0546\n",
      "Epoch 5/100\n",
      "73/73 [==============================] - 3s 40ms/step - loss: 0.0459\n",
      "Epoch 6/100\n",
      "73/73 [==============================] - 4s 49ms/step - loss: 0.0320\n",
      "Epoch 7/100\n",
      "73/73 [==============================] - 4s 50ms/step - loss: 0.0280\n",
      "Epoch 8/100\n",
      "73/73 [==============================] - 3s 41ms/step - loss: 0.0237\n",
      "Epoch 9/100\n",
      "73/73 [==============================] - 3s 40ms/step - loss: 0.0202\n",
      "Epoch 10/100\n",
      "73/73 [==============================] - 4s 49ms/step - loss: 0.0195\n",
      "Epoch 11/100\n",
      "73/73 [==============================] - 4s 50ms/step - loss: 0.0150\n",
      "Epoch 12/100\n",
      "73/73 [==============================] - 3s 40ms/step - loss: 0.0137\n",
      "Epoch 13/100\n",
      "73/73 [==============================] - 3s 39ms/step - loss: 0.0127\n",
      "Epoch 14/100\n",
      "73/73 [==============================] - 3s 46ms/step - loss: 0.0117\n",
      "Epoch 15/100\n",
      "73/73 [==============================] - 4s 52ms/step - loss: 0.0113\n",
      "Epoch 16/100\n",
      "73/73 [==============================] - 3s 40ms/step - loss: 0.0090\n",
      "Epoch 17/100\n",
      "73/73 [==============================] - 3s 40ms/step - loss: 0.0092\n",
      "Epoch 18/100\n",
      "73/73 [==============================] - 3s 43ms/step - loss: 0.0080\n",
      "Epoch 19/100\n",
      "73/73 [==============================] - 4s 56ms/step - loss: 0.0076\n",
      "Epoch 20/100\n",
      "73/73 [==============================] - 3s 40ms/step - loss: 0.0072\n",
      "Epoch 21/100\n",
      "73/73 [==============================] - 3s 40ms/step - loss: 0.0071\n",
      "Epoch 22/100\n",
      "73/73 [==============================] - 3s 40ms/step - loss: 0.0069\n",
      "Epoch 23/100\n",
      "73/73 [==============================] - 4s 58ms/step - loss: 0.0068\n",
      "Epoch 24/100\n",
      "73/73 [==============================] - 3s 40ms/step - loss: 0.0061\n",
      "Epoch 25/100\n",
      "73/73 [==============================] - 3s 40ms/step - loss: 0.0055\n",
      "Epoch 26/100\n",
      "73/73 [==============================] - 3s 40ms/step - loss: 0.0056\n",
      "Epoch 27/100\n",
      "73/73 [==============================] - 4s 59ms/step - loss: 0.0049\n",
      "Epoch 28/100\n",
      "73/73 [==============================] - 3s 40ms/step - loss: 0.0053\n",
      "Epoch 29/100\n",
      "73/73 [==============================] - 3s 40ms/step - loss: 0.0047\n",
      "Epoch 30/100\n",
      "73/73 [==============================] - 3s 40ms/step - loss: 0.0042\n",
      "Epoch 31/100\n",
      "73/73 [==============================] - 4s 59ms/step - loss: 0.0048\n",
      "Epoch 32/100\n",
      "73/73 [==============================] - 5s 64ms/step - loss: 0.0047\n",
      "Epoch 33/100\n",
      "73/73 [==============================] - 3s 40ms/step - loss: 0.0039\n",
      "Epoch 34/100\n",
      "73/73 [==============================] - 4s 56ms/step - loss: 0.0043\n",
      "Epoch 35/100\n",
      "73/73 [==============================] - 3s 43ms/step - loss: 0.0042\n",
      "Epoch 36/100\n",
      "73/73 [==============================] - 3s 39ms/step - loss: 0.0037\n",
      "Epoch 37/100\n",
      "73/73 [==============================] - 3s 39ms/step - loss: 0.0038\n",
      "Epoch 38/100\n",
      "73/73 [==============================] - 4s 51ms/step - loss: 0.0037\n",
      "Epoch 39/100\n",
      "73/73 [==============================] - 3s 46ms/step - loss: 0.0031\n",
      "Epoch 40/100\n",
      "73/73 [==============================] - 3s 39ms/step - loss: 0.0030\n",
      "Epoch 41/100\n",
      "73/73 [==============================] - 3s 39ms/step - loss: 0.0035\n",
      "Epoch 42/100\n",
      "73/73 [==============================] - 3s 47ms/step - loss: 0.0036\n",
      "Epoch 43/100\n",
      "73/73 [==============================] - 4s 51ms/step - loss: 0.0030\n",
      "Epoch 44/100\n",
      "73/73 [==============================] - 3s 39ms/step - loss: 0.0034\n",
      "Epoch 45/100\n",
      "73/73 [==============================] - 3s 39ms/step - loss: 0.0030\n",
      "Epoch 46/100\n",
      "73/73 [==============================] - 3s 45ms/step - loss: 0.0032\n",
      "Epoch 47/100\n",
      "73/73 [==============================] - 4s 53ms/step - loss: 0.0027\n",
      "Epoch 48/100\n",
      "73/73 [==============================] - 3s 39ms/step - loss: 0.0031\n",
      "Epoch 49/100\n",
      "73/73 [==============================] - 3s 39ms/step - loss: 0.0029\n",
      "Epoch 50/100\n",
      "73/73 [==============================] - 3s 42ms/step - loss: 0.0027\n",
      "Epoch 51/100\n",
      "73/73 [==============================] - 4s 56ms/step - loss: 0.0028\n",
      "Epoch 52/100\n",
      "73/73 [==============================] - 3s 40ms/step - loss: 0.0026\n",
      "Epoch 53/100\n",
      "73/73 [==============================] - 3s 39ms/step - loss: 0.0029\n",
      "Epoch 54/100\n",
      "73/73 [==============================] - 3s 40ms/step - loss: 0.0028\n",
      "Epoch 55/100\n",
      "73/73 [==============================] - 4s 58ms/step - loss: 0.0030\n",
      "Epoch 56/100\n",
      "73/73 [==============================] - 3s 40ms/step - loss: 0.0026\n",
      "Epoch 57/100\n",
      "73/73 [==============================] - 3s 39ms/step - loss: 0.0023\n",
      "Epoch 58/100\n",
      "73/73 [==============================] - 3s 40ms/step - loss: 0.0025\n",
      "Epoch 59/100\n",
      "73/73 [==============================] - 4s 60ms/step - loss: 0.0027\n",
      "Epoch 60/100\n",
      "73/73 [==============================] - 3s 39ms/step - loss: 0.0025\n",
      "Epoch 61/100\n",
      "73/73 [==============================] - 3s 40ms/step - loss: 0.0025\n",
      "Epoch 62/100\n",
      "73/73 [==============================] - 3s 40ms/step - loss: 0.0025\n",
      "Epoch 63/100\n",
      "73/73 [==============================] - 4s 59ms/step - loss: 0.0026\n",
      "Epoch 64/100\n",
      "73/73 [==============================] - 3s 40ms/step - loss: 0.0022\n",
      "Epoch 65/100\n",
      "73/73 [==============================] - 3s 40ms/step - loss: 0.0022\n",
      "Epoch 66/100\n",
      "73/73 [==============================] - 3s 40ms/step - loss: 0.0023\n",
      "Epoch 67/100\n",
      "73/73 [==============================] - 4s 58ms/step - loss: 0.0022\n",
      "Epoch 68/100\n",
      "73/73 [==============================] - 3s 40ms/step - loss: 0.0022\n",
      "Epoch 69/100\n",
      "73/73 [==============================] - 3s 39ms/step - loss: 0.0024\n",
      "Epoch 70/100\n",
      "73/73 [==============================] - 3s 40ms/step - loss: 0.0021\n",
      "Epoch 71/100\n",
      "73/73 [==============================] - 4s 57ms/step - loss: 0.0021\n",
      "Epoch 72/100\n",
      "73/73 [==============================] - 3s 41ms/step - loss: 0.0021\n",
      "Epoch 73/100\n",
      "73/73 [==============================] - 3s 40ms/step - loss: 0.0021\n",
      "Epoch 74/100\n",
      "73/73 [==============================] - 3s 40ms/step - loss: 0.0020\n",
      "Epoch 75/100\n",
      "73/73 [==============================] - 4s 54ms/step - loss: 0.0020\n",
      "Epoch 76/100\n",
      "73/73 [==============================] - 3s 44ms/step - loss: 0.0022\n",
      "Epoch 77/100\n",
      "73/73 [==============================] - 3s 42ms/step - loss: 0.0020\n",
      "Epoch 78/100\n",
      "73/73 [==============================] - 3s 40ms/step - loss: 0.0018\n",
      "Epoch 79/100\n",
      "73/73 [==============================] - 4s 53ms/step - loss: 0.0019\n",
      "Epoch 80/100\n",
      "73/73 [==============================] - 3s 45ms/step - loss: 0.0021\n",
      "Epoch 81/100\n",
      "73/73 [==============================] - 3s 40ms/step - loss: 0.0020\n",
      "Epoch 82/100\n",
      "73/73 [==============================] - 3s 40ms/step - loss: 0.0019\n",
      "Epoch 83/100\n",
      "73/73 [==============================] - 4s 52ms/step - loss: 0.0023\n",
      "Epoch 84/100\n",
      "73/73 [==============================] - 3s 47ms/step - loss: 0.0018\n",
      "Epoch 85/100\n",
      "73/73 [==============================] - 3s 41ms/step - loss: 0.0020\n",
      "Epoch 86/100\n",
      "73/73 [==============================] - 3s 40ms/step - loss: 0.0017\n",
      "Epoch 87/100\n",
      "73/73 [==============================] - 4s 50ms/step - loss: 0.0022\n",
      "Epoch 88/100\n",
      "73/73 [==============================] - 4s 49ms/step - loss: 0.0019\n",
      "Epoch 89/100\n",
      "73/73 [==============================] - 3s 40ms/step - loss: 0.0018\n",
      "Epoch 90/100\n",
      "73/73 [==============================] - 3s 40ms/step - loss: 0.0019\n",
      "Epoch 91/100\n",
      "73/73 [==============================] - 3s 48ms/step - loss: 0.0020\n",
      "Epoch 92/100\n",
      "73/73 [==============================] - 4s 52ms/step - loss: 0.0019\n",
      "Epoch 93/100\n",
      "73/73 [==============================] - 3s 40ms/step - loss: 0.0018\n",
      "Epoch 94/100\n",
      "73/73 [==============================] - 3s 40ms/step - loss: 0.0020\n",
      "Epoch 95/100\n",
      "73/73 [==============================] - 3s 47ms/step - loss: 0.0018\n",
      "Epoch 96/100\n",
      "73/73 [==============================] - 4s 52ms/step - loss: 0.0017\n",
      "Epoch 97/100\n",
      "73/73 [==============================] - 3s 40ms/step - loss: 0.0016\n",
      "Epoch 98/100\n",
      "73/73 [==============================] - 3s 40ms/step - loss: 0.0019\n",
      "Epoch 99/100\n",
      "73/73 [==============================] - 3s 45ms/step - loss: 0.0018\n",
      "Epoch 100/100\n",
      "73/73 [==============================] - 4s 54ms/step - loss: 0.0018\n"
     ]
    },
    {
     "output_type": "execute_result",
     "data": {
      "text/plain": [
       "<keras.callbacks.History at 0x7fcd5cd86a00>"
      ]
     },
     "metadata": {},
     "execution_count": 16
    }
   ]
  },
  {
   "cell_type": "markdown",
   "source": [
    "### Predict\n",
    "\n",
    "We will make predictions using the model we have created."
   ],
   "metadata": {
    "id": "X421H8gCmk_g"
   }
  },
  {
   "cell_type": "code",
   "source": [
    "test.head()"
   ],
   "metadata": {
    "trusted": true,
    "colab": {
     "base_uri": "https://localhost:8080/",
     "height": 206
    },
    "id": "E7il1VzRmk_g",
    "outputId": "0c7679c0-a12a-4b20-c41b-ab880f6f700e"
   },
   "execution_count": 17,
   "outputs": [
    {
     "output_type": "execute_result",
     "data": {
      "text/plain": [
       "            Date    Open    High     Low   Close   Volume  OpenInt\n",
       "1486  2016-05-24  216.60  218.74  215.18  217.91  2928659        0\n",
       "1487  2016-05-25  217.91  221.36  216.51  219.58  2514028        0\n",
       "1488  2016-05-26  220.50  225.26  219.05  225.12  3560997        0\n",
       "1489  2016-05-27  224.99  225.93  220.75  223.04  3081734        0\n",
       "1490  2016-05-31  223.04  224.75  221.50  223.23  2046828        0"
      ],
      "text/html": [
       "\n",
       "  <div id=\"df-9cba792e-e973-4271-949b-997f58baab41\">\n",
       "    <div class=\"colab-df-container\">\n",
       "      <div>\n",
       "<style scoped>\n",
       "    .dataframe tbody tr th:only-of-type {\n",
       "        vertical-align: middle;\n",
       "    }\n",
       "\n",
       "    .dataframe tbody tr th {\n",
       "        vertical-align: top;\n",
       "    }\n",
       "\n",
       "    .dataframe thead th {\n",
       "        text-align: right;\n",
       "    }\n",
       "</style>\n",
       "<table border=\"1\" class=\"dataframe\">\n",
       "  <thead>\n",
       "    <tr style=\"text-align: right;\">\n",
       "      <th></th>\n",
       "      <th>Date</th>\n",
       "      <th>Open</th>\n",
       "      <th>High</th>\n",
       "      <th>Low</th>\n",
       "      <th>Close</th>\n",
       "      <th>Volume</th>\n",
       "      <th>OpenInt</th>\n",
       "    </tr>\n",
       "  </thead>\n",
       "  <tbody>\n",
       "    <tr>\n",
       "      <th>1486</th>\n",
       "      <td>2016-05-24</td>\n",
       "      <td>216.60</td>\n",
       "      <td>218.74</td>\n",
       "      <td>215.18</td>\n",
       "      <td>217.91</td>\n",
       "      <td>2928659</td>\n",
       "      <td>0</td>\n",
       "    </tr>\n",
       "    <tr>\n",
       "      <th>1487</th>\n",
       "      <td>2016-05-25</td>\n",
       "      <td>217.91</td>\n",
       "      <td>221.36</td>\n",
       "      <td>216.51</td>\n",
       "      <td>219.58</td>\n",
       "      <td>2514028</td>\n",
       "      <td>0</td>\n",
       "    </tr>\n",
       "    <tr>\n",
       "      <th>1488</th>\n",
       "      <td>2016-05-26</td>\n",
       "      <td>220.50</td>\n",
       "      <td>225.26</td>\n",
       "      <td>219.05</td>\n",
       "      <td>225.12</td>\n",
       "      <td>3560997</td>\n",
       "      <td>0</td>\n",
       "    </tr>\n",
       "    <tr>\n",
       "      <th>1489</th>\n",
       "      <td>2016-05-27</td>\n",
       "      <td>224.99</td>\n",
       "      <td>225.93</td>\n",
       "      <td>220.75</td>\n",
       "      <td>223.04</td>\n",
       "      <td>3081734</td>\n",
       "      <td>0</td>\n",
       "    </tr>\n",
       "    <tr>\n",
       "      <th>1490</th>\n",
       "      <td>2016-05-31</td>\n",
       "      <td>223.04</td>\n",
       "      <td>224.75</td>\n",
       "      <td>221.50</td>\n",
       "      <td>223.23</td>\n",
       "      <td>2046828</td>\n",
       "      <td>0</td>\n",
       "    </tr>\n",
       "  </tbody>\n",
       "</table>\n",
       "</div>\n",
       "      <button class=\"colab-df-convert\" onclick=\"convertToInteractive('df-9cba792e-e973-4271-949b-997f58baab41')\"\n",
       "              title=\"Convert this dataframe to an interactive table.\"\n",
       "              style=\"display:none;\">\n",
       "        \n",
       "  <svg xmlns=\"http://www.w3.org/2000/svg\" height=\"24px\"viewBox=\"0 0 24 24\"\n",
       "       width=\"24px\">\n",
       "    <path d=\"M0 0h24v24H0V0z\" fill=\"none\"/>\n",
       "    <path d=\"M18.56 5.44l.94 2.06.94-2.06 2.06-.94-2.06-.94-.94-2.06-.94 2.06-2.06.94zm-11 1L8.5 8.5l.94-2.06 2.06-.94-2.06-.94L8.5 2.5l-.94 2.06-2.06.94zm10 10l.94 2.06.94-2.06 2.06-.94-2.06-.94-.94-2.06-.94 2.06-2.06.94z\"/><path d=\"M17.41 7.96l-1.37-1.37c-.4-.4-.92-.59-1.43-.59-.52 0-1.04.2-1.43.59L10.3 9.45l-7.72 7.72c-.78.78-.78 2.05 0 2.83L4 21.41c.39.39.9.59 1.41.59.51 0 1.02-.2 1.41-.59l7.78-7.78 2.81-2.81c.8-.78.8-2.07 0-2.86zM5.41 20L4 18.59l7.72-7.72 1.47 1.35L5.41 20z\"/>\n",
       "  </svg>\n",
       "      </button>\n",
       "      \n",
       "  <style>\n",
       "    .colab-df-container {\n",
       "      display:flex;\n",
       "      flex-wrap:wrap;\n",
       "      gap: 12px;\n",
       "    }\n",
       "\n",
       "    .colab-df-convert {\n",
       "      background-color: #E8F0FE;\n",
       "      border: none;\n",
       "      border-radius: 50%;\n",
       "      cursor: pointer;\n",
       "      display: none;\n",
       "      fill: #1967D2;\n",
       "      height: 32px;\n",
       "      padding: 0 0 0 0;\n",
       "      width: 32px;\n",
       "    }\n",
       "\n",
       "    .colab-df-convert:hover {\n",
       "      background-color: #E2EBFA;\n",
       "      box-shadow: 0px 1px 2px rgba(60, 64, 67, 0.3), 0px 1px 3px 1px rgba(60, 64, 67, 0.15);\n",
       "      fill: #174EA6;\n",
       "    }\n",
       "\n",
       "    [theme=dark] .colab-df-convert {\n",
       "      background-color: #3B4455;\n",
       "      fill: #D2E3FC;\n",
       "    }\n",
       "\n",
       "    [theme=dark] .colab-df-convert:hover {\n",
       "      background-color: #434B5C;\n",
       "      box-shadow: 0px 1px 3px 1px rgba(0, 0, 0, 0.15);\n",
       "      filter: drop-shadow(0px 1px 2px rgba(0, 0, 0, 0.3));\n",
       "      fill: #FFFFFF;\n",
       "    }\n",
       "  </style>\n",
       "\n",
       "      <script>\n",
       "        const buttonEl =\n",
       "          document.querySelector('#df-9cba792e-e973-4271-949b-997f58baab41 button.colab-df-convert');\n",
       "        buttonEl.style.display =\n",
       "          google.colab.kernel.accessAllowed ? 'block' : 'none';\n",
       "\n",
       "        async function convertToInteractive(key) {\n",
       "          const element = document.querySelector('#df-9cba792e-e973-4271-949b-997f58baab41');\n",
       "          const dataTable =\n",
       "            await google.colab.kernel.invokeFunction('convertToInteractive',\n",
       "                                                     [key], {});\n",
       "          if (!dataTable) return;\n",
       "\n",
       "          const docLinkHtml = 'Like what you see? Visit the ' +\n",
       "            '<a target=\"_blank\" href=https://colab.research.google.com/notebooks/data_table.ipynb>data table notebook</a>'\n",
       "            + ' to learn more about interactive tables.';\n",
       "          element.innerHTML = '';\n",
       "          dataTable['output_type'] = 'display_data';\n",
       "          await google.colab.output.renderOutput(dataTable, element);\n",
       "          const docLink = document.createElement('div');\n",
       "          docLink.innerHTML = docLinkHtml;\n",
       "          element.appendChild(docLink);\n",
       "        }\n",
       "      </script>\n",
       "    </div>\n",
       "  </div>\n",
       "  "
      ]
     },
     "metadata": {},
     "execution_count": 17
    }
   ]
  },
  {
   "cell_type": "markdown",
   "source": [
    "We use the data we separated above as our test data."
   ],
   "metadata": {
    "id": "QfwgjOZwmk_h"
   }
  },
  {
   "cell_type": "code",
   "source": [
    "real_price = test.loc[:, [\"Open\"]].values\n",
    "print(\"Real Price Shape --> \", real_price.shape)"
   ],
   "metadata": {
    "trusted": true,
    "colab": {
     "base_uri": "https://localhost:8080/"
    },
    "id": "Z5G8VoyWmk_i",
    "outputId": "db8f9071-6b44-4562-ee48-7bb35dfeaf38"
   },
   "execution_count": 18,
   "outputs": [
    {
     "output_type": "stream",
     "name": "stdout",
     "text": [
      "Real Price Shape -->  (372, 1)\n"
     ]
    }
   ]
  },
  {
   "cell_type": "markdown",
   "source": [
    "Since we use the \"open\" feature while training the model, we will use the same feature while testing."
   ],
   "metadata": {
    "id": "KE3ngHmLmk_j"
   }
  },
  {
   "cell_type": "code",
   "source": [
    "dataset_total = pd.concat((data[\"Open\"], test[\"Open\"]), axis = 0)\n",
    "inputs = dataset_total[len(dataset_total) - len(test) - timesteps:].values.reshape(-1,1)\n",
    "inputs = scaler.transform(inputs)"
   ],
   "metadata": {
    "trusted": true,
    "id": "reG4FE9nmk_j"
   },
   "execution_count": 19,
   "outputs": []
  },
  {
   "cell_type": "markdown",
   "source": [
    "We distinguish the values that I will guess."
   ],
   "metadata": {
    "id": "2snstTF6mk_k"
   }
  },
  {
   "cell_type": "code",
   "source": [
    "X_test = []\n",
    "\n",
    "for i in range(timesteps, 412):\n",
    "    X_test.append(inputs[i-timesteps:i, 0])\n",
    "X_test = np.array(X_test)\n",
    "\n",
    "print(\"X_test shape --> \", X_test.shape)"
   ],
   "metadata": {
    "trusted": true,
    "colab": {
     "base_uri": "https://localhost:8080/"
    },
    "id": "WDXjZqNQmk_l",
    "outputId": "f7c2d7e5-a158-40ca-9836-c20b1a3eb4ec"
   },
   "execution_count": 20,
   "outputs": [
    {
     "output_type": "stream",
     "name": "stdout",
     "text": [
      "X_test shape -->  (372, 40)\n"
     ]
    }
   ]
  },
  {
   "cell_type": "markdown",
   "source": [
    "We trained our model according to the steps above. We generate our test data based on this number of steps.\n",
    "\n",
    "And also we use RMSE method to compare the training and testing result."
   ],
   "metadata": {
    "id": "eq4-4d0_mk_m"
   }
  },
  {
   "cell_type": "code",
   "source": [
    "X_train = np.reshape(X_train, (X_train.shape[0],X_train.shape[1]))\n",
    "y_train = np.reshape(y_train, (y_train.shape[0], 1))\n"
   ],
   "metadata": {
    "id": "Q3_J9Kx-9quT"
   },
   "execution_count": 23,
   "outputs": []
  },
  {
   "cell_type": "code",
   "source": [
    "X_train = torch.from_numpy(X_train).type(torch.Tensor)\n",
    "y_train = torch.from_numpy(y_train).type(torch.Tensor)"
   ],
   "metadata": {
    "id": "_PbVOX7cOX_E"
   },
   "execution_count": 24,
   "outputs": []
  },
  {
   "cell_type": "code",
   "source": [
    "y_train.size(),X_train.size()"
   ],
   "metadata": {
    "colab": {
     "base_uri": "https://localhost:8080/"
    },
    "id": "xVNI493T-mba",
    "outputId": "da73fbb7-62fe-48c6-eefc-68bdba9c0f8d"
   },
   "execution_count": 25,
   "outputs": [
    {
     "output_type": "execute_result",
     "data": {
      "text/plain": [
       "(torch.Size([1446, 1]), torch.Size([1446, 40]))"
      ]
     },
     "metadata": {},
     "execution_count": 25
    }
   ]
  },
  {
   "cell_type": "code",
   "source": [
    "X_train = scaler.inverse_transform(X_train.detach().numpy())\n",
    "y_train = scaler.inverse_transform(y_train.detach().numpy())\n",
    "X_train.shape"
   ],
   "metadata": {
    "colab": {
     "base_uri": "https://localhost:8080/"
    },
    "id": "jaDhn2fS9SjI",
    "outputId": "3b633ffa-5bc8-409e-d82a-7b5c18659319"
   },
   "execution_count": 26,
   "outputs": [
    {
     "output_type": "execute_result",
     "data": {
      "text/plain": [
       "(1446, 40)"
      ]
     },
     "metadata": {},
     "execution_count": 26
    }
   ]
  },
  {
   "cell_type": "code",
   "source": [
    "X_test = np.reshape(X_test, (X_test.shape[0], X_test.shape[1], 1))\n",
    "predict = regressor.predict(X_test)\n",
    "predict = scaler.inverse_transform(predict)"
   ],
   "metadata": {
    "trusted": true,
    "colab": {
     "base_uri": "https://localhost:8080/"
    },
    "id": "T8baReMfmk_m",
    "outputId": "5fa0c398-9046-498e-d535-fb875c35d866"
   },
   "execution_count": 27,
   "outputs": [
    {
     "output_type": "stream",
     "name": "stdout",
     "text": [
      "12/12 [==============================] - 2s 42ms/step\n"
     ]
    }
   ]
  },
  {
   "cell_type": "code",
   "source": [
    "trainScore = math.sqrt(mean_squared_error(X_train[:,0], y_train[:,0]))\n",
    "print('Train Score: %.2f RMSE' % (trainScore))\n",
    "testScore = math.sqrt(mean_squared_error(predict[:,0], real_price[:,0]))\n",
    "print('Test Score: %.2f RMSE' % (testScore))"
   ],
   "metadata": {
    "colab": {
     "base_uri": "https://localhost:8080/"
    },
    "id": "FyknH_W4x09z",
    "outputId": "75d2b53a-594b-4706-ba87-b7a7386936ba"
   },
   "execution_count": 28,
   "outputs": [
    {
     "output_type": "stream",
     "name": "stdout",
     "text": [
      "Train Score: 29.06 RMSE\n",
      "Test Score: 41.09 RMSE\n"
     ]
    }
   ]
  },
  {
   "cell_type": "markdown",
   "source": [
    "### Evaluate the model\n",
    "\n",
    "Finally let's take a look at our results by comparing our predictions with real data."
   ],
   "metadata": {
    "id": "HmSE0UIHmk_n"
   }
  },
  {
   "cell_type": "code",
   "source": [
    "plt.plot(real_price, color = \"red\", label = \"Real Stock Price\")\n",
    "plt.plot(predict, color = \"black\", label = \"Predict Stock Price\")\n",
    "plt.title(\"Stock Price Prediction\")\n",
    "plt.xlabel(\"Time\")\n",
    "plt.ylabel(\"Tesla Stock Price\")\n",
    "plt.legend()\n",
    "plt.show()"
   ],
   "metadata": {
    "trusted": true,
    "colab": {
     "base_uri": "https://localhost:8080/",
     "height": 472
    },
    "id": "aYUBndMFmk_n",
    "outputId": "f429a126-5720-445f-bd8e-10175467054a"
   },
   "execution_count": 29,
   "outputs": [
    {
     "output_type": "display_data",
     "data": {
      "text/plain": [
       "<Figure size 640x480 with 1 Axes>"
      ],
      "image/png": "[encoded data removed]"
     },
     "metadata": {}
    }
   ]
  },
  {
   "cell_type": "markdown",
   "source": [
    "Our model has made good predictions until a certain time, but after a while the difference with the real data has started to increase."
   ],
   "metadata": {
    "id": "yt33Cl2imk_o"
   }
  }
 ]
}
